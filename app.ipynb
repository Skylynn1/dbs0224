{
 "cells": [
  {
   "cell_type": "code",
   "execution_count": 1,
   "id": "5ca98271",
   "metadata": {},
   "outputs": [],
   "source": [
    "from flask import Flask,request,render_template"
   ]
  },
  {
   "cell_type": "code",
   "execution_count": 2,
   "id": "8e538559",
   "metadata": {},
   "outputs": [],
   "source": [
    "import joblib"
   ]
  },
  {
   "cell_type": "code",
   "execution_count": 3,
   "id": "702c6393",
   "metadata": {},
   "outputs": [],
   "source": [
    "app=Flask(__name__)"
   ]
  },
  {
   "cell_type": "code",
   "execution_count": 4,
   "id": "91c19124",
   "metadata": {},
   "outputs": [],
   "source": [
    "@app.route(\"/\",methods=[\"GET\",\"POST\"])\n",
    "def index():\n",
    "    if request.method == \"POST\":\n",
    "        rates=float(request.form.get(\"rates\"))\n",
    "        print(rates)\n",
    "        model1=joblib.load(\"regression\")\n",
    "        r1=model1.predict([[rates]])\n",
    "        model2=joblib.load(\"tree\")\n",
    "        r2=model2.predict([[rates]])\n",
    "        return (render_template(\"index.html\",result1=r1,result2=r2))\n",
    "    else:\n",
    "        return (render_template(\"index.html\",result1=\"Waiting\",result2=\"Waiting\"))"
   ]
  },
  {
   "cell_type": "code",
   "execution_count": null,
   "id": "3055a434",
   "metadata": {},
   "outputs": [
    {
     "name": "stdout",
     "output_type": "stream",
     "text": [
      " * Serving Flask app \"__main__\" (lazy loading)\n",
      " * Environment: production\n",
      "\u001b[31m   WARNING: This is a development server. Do not use it in a production deployment.\u001b[0m\n",
      "\u001b[2m   Use a production WSGI server instead.\u001b[0m\n",
      " * Debug mode: off\n"
     ]
    },
    {
     "name": "stderr",
     "output_type": "stream",
     "text": [
      " * Running on http://127.0.0.1:5000/ (Press CTRL+C to quit)\n"
     ]
    }
   ],
   "source": [
    "if __name__ == \"__main__\":\n",
    "    app.run()"
   ]
  },
  {
   "cell_type": "code",
   "execution_count": null,
   "id": "cb0b35d1",
   "metadata": {},
   "outputs": [],
   "source": []
  }
 ],
 "metadata": {
  "kernelspec": {
   "display_name": "Python 3 (ipykernel)",
   "language": "python",
   "name": "python3"
  },
  "language_info": {
   "codemirror_mode": {
    "name": "ipython",
    "version": 3
   },
   "file_extension": ".py",
   "mimetype": "text/x-python",
   "name": "python",
   "nbconvert_exporter": "python",
   "pygments_lexer": "ipython3",
   "version": "3.9.12"
  }
 },
 "nbformat": 4,
 "nbformat_minor": 5
}
